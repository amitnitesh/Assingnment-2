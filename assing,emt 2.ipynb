{
 "cells": [
  {
   "cell_type": "code",
   "execution_count": 2,
   "id": "062a5f64-7a0c-4bdc-be85-1f72512852a9",
   "metadata": {},
   "outputs": [
    {
     "name": "stdout",
     "output_type": "stream",
     "text": [
      "9\n",
      "-1\n",
      "20\n",
      "0.8\n",
      "4\n"
     ]
    }
   ],
   "source": [
    "a=4\n",
    "b=5\n",
    "print(a+b)\n",
    "print(a-b)\n",
    "print(a*b)\n",
    "print(a/b)\n",
    "print(a%b)"
   ]
  },
  {
   "cell_type": "code",
   "execution_count": 3,
   "id": "3668f4bd-2191-45f3-8007-e95e61fa0ce6",
   "metadata": {},
   "outputs": [
    {
     "name": "stdin",
     "output_type": "stream",
     "text": [
      "enter a number 5\n",
      "enter a number 5\n"
     ]
    },
    {
     "name": "stdout",
     "output_type": "stream",
     "text": [
      "10\n",
      "0\n",
      "25\n",
      "1.0\n",
      "0\n"
     ]
    }
   ],
   "source": [
    "a=int(input(\"enter a number\"))\n",
    "b=int(input(\"enter a number\"))\n",
    "print(a+b)\n",
    "print(a-b)\n",
    "print(a*b)\n",
    "print(a/b)\n",
    "print(a%b)"
   ]
  },
  {
   "cell_type": "code",
   "execution_count": 5,
   "id": "ff69b34c-8839-4ffd-a949-de0f48a2c3e3",
   "metadata": {},
   "outputs": [
    {
     "name": "stdout",
     "output_type": "stream",
     "text": [
      "True\n",
      "False\n",
      "True\n",
      "False\n",
      "False\n"
     ]
    }
   ],
   "source": [
    "a=56\n",
    "b=51\n",
    "print(a>b)\n",
    "print(a<b)\n",
    "print(a>=b)\n",
    "print(a<=b)\n",
    "print(a==b)"
   ]
  },
  {
   "cell_type": "code",
   "execution_count": 8,
   "id": "a173bd7b-702f-4b75-8050-662a83ade459",
   "metadata": {},
   "outputs": [
    {
     "name": "stdout",
     "output_type": "stream",
     "text": [
      "False\n",
      "False\n",
      "True\n",
      "True\n",
      "True\n"
     ]
    }
   ],
   "source": [
    "a=56\n",
    "b=56\n",
    "print(a>b) and print(a<b)\n",
    "print(a<b) and print(a>=b)\n",
    "print(a>=b) and print(a<b)\n",
    "print(a<=b) and print(a>=b)\n",
    "print(a==b) and print(a>b)"
   ]
  },
  {
   "cell_type": "code",
   "execution_count": 12,
   "id": "6d70bb8c-d3ea-4161-861b-cc3a8e6addc0",
   "metadata": {},
   "outputs": [
    {
     "name": "stdout",
     "output_type": "stream",
     "text": [
      "False\n",
      "True\n"
     ]
    }
   ],
   "source": [
    "a=\"nitesh\"\n",
    "b=\"amit\"\n",
    "print(a is b)\n",
    "a=\"nitesh\"\n",
    "b=\"nitesh\"\n",
    "print(b is a)"
   ]
  },
  {
   "cell_type": "code",
   "execution_count": 18,
   "id": "b8d224ca-41b8-4fff-b646-280f7da1607c",
   "metadata": {},
   "outputs": [
    {
     "name": "stdout",
     "output_type": "stream",
     "text": [
      "13\n",
      "15\n",
      "-16\n",
      "2\n"
     ]
    }
   ],
   "source": [
    "a=13\n",
    "b=15\n",
    "print(a&b)\n",
    "print(a|b)\n",
    "print(~b)\n",
    "print(a^b)"
   ]
  },
  {
   "cell_type": "code",
   "execution_count": null,
   "id": "bf5be00c-86b6-48cc-9137-dfb77b01dbf4",
   "metadata": {},
   "outputs": [],
   "source": []
  }
 ],
 "metadata": {
  "kernelspec": {
   "display_name": "Python 3 (ipykernel)",
   "language": "python",
   "name": "python3"
  },
  "language_info": {
   "codemirror_mode": {
    "name": "ipython",
    "version": 3
   },
   "file_extension": ".py",
   "mimetype": "text/x-python",
   "name": "python",
   "nbconvert_exporter": "python",
   "pygments_lexer": "ipython3",
   "version": "3.10.8"
  }
 },
 "nbformat": 4,
 "nbformat_minor": 5
}
